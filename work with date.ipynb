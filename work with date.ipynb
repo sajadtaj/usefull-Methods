{
 "cells": [
  {
   "cell_type": "markdown",
   "metadata": {},
   "source": [
    "## Convert 20230419 to 2023-04-19"
   ]
  },
  {
   "cell_type": "code",
   "execution_count": null,
   "metadata": {},
   "outputs": [],
   "source": [
    "import pandas as pd\n",
    "df['Date'] = pd.to_datetime(df['<DTYYYYMMDD>'], format=\"%Y%m%d\", errors='coerce')\n",
    "df['Date'].fillna(pd.NaT, inplace=True)   \n",
    "df['Date'] = df['Date'].dt.strftime(\"%Y-%m-%d\")"
   ]
  },
  {
   "attachments": {},
   "cell_type": "markdown",
   "metadata": {},
   "source": [
    "## Splite Date & Time\n",
    "> 2023-04-19 10:23:20 -->  \\\n",
    "> time : 2023-04-19  \\\n",
    "> date : 10:23:20  "
   ]
  },
  {
   "cell_type": "code",
   "execution_count": null,
   "metadata": {},
   "outputs": [],
   "source": [
    "df['DATE'] = pd.to_datetime(df['DATE'], format='%y-%m-%d %H:%M:%S')\n",
    "\n",
    "# Extract the date and time components into separate columns\n",
    "df['date'] = df['Since'].dt.date\n",
    "df['time'] = df['Since'].dt.time"
   ]
  },
  {
   "attachments": {},
   "cell_type": "markdown",
   "metadata": {},
   "source": [
    "## change in date time format\n",
    "> 2012-09-02 -> 02-09-2012"
   ]
  },
  {
   "cell_type": "code",
   "execution_count": null,
   "metadata": {},
   "outputs": [],
   "source": [
    "import pandas as pd\n",
    "\n",
    "# change in date time format\n",
    "date_sr = pd.to_datetime(pd.Series(\"2012-09-02\"))\n",
    "change_format = date_sr.dt.strftime('%d-%m-%Y')\n",
    "\n",
    "# Print the formatted date\n",
    "print(change_format)"
   ]
  },
  {
   "attachments": {},
   "cell_type": "markdown",
   "metadata": {},
   "source": [
    "## Convert STR to Time\n",
    "> '2012-05-15' -> date(2012-05-15)"
   ]
  },
  {
   "cell_type": "code",
   "execution_count": null,
   "metadata": {},
   "outputs": [],
   "source": [
    "## convert column to Data\n",
    "\n",
    "df.index = pd.to_datetime(df.index)\n",
    "\n",
    "# Convert Str to Date\n",
    "\n",
    "df.index= datetime.datetime.strptime(df.index, '%Y-%m-%d').date()"
   ]
  },
  {
   "attachments": {},
   "cell_type": "markdown",
   "metadata": {},
   "source": [
    "## Sum 2 Date \n",
    "> Date1 + Date2"
   ]
  },
  {
   "cell_type": "code",
   "execution_count": null,
   "metadata": {},
   "outputs": [],
   "source": [
    "# sum by Days \n",
    "date_1 = datetime.datetime.strptime(start_date, \"%m/%d/%y\")\n",
    "end_date = date_1 + datetime.timedelta(days=10)"
   ]
  },
  {
   "attachments": {},
   "cell_type": "markdown",
   "metadata": {},
   "source": [
    "## Split Year From Date \n",
    "> 2023-04-19   ->  2023"
   ]
  },
  {
   "cell_type": "code",
   "execution_count": null,
   "metadata": {},
   "outputs": [],
   "source": [
    "# Data format 2023-04-19\n",
    "import pandas as pd\n",
    "df['Date'] = pd.to_datetime(df['Date'])\n",
    "df['year'] = df['Date'].dt.year\n",
    "\n",
    "df['year'] = pd.to_datetime(df['year']) "
   ]
  },
  {
   "attachments": {},
   "cell_type": "markdown",
   "metadata": {},
   "source": [
    "## Convert Jalali to georgian"
   ]
  },
  {
   "cell_type": "code",
   "execution_count": null,
   "metadata": {},
   "outputs": [],
   "source": [
    "import jalali_pandas\n",
    "import datetime \n",
    "import jalali\n",
    "\n",
    "#convert string to date \n",
    "data['jdate']= data['jdate'].jalali.parse_jalali(\"%Y/%m/%d\")\n",
    "\n",
    "#convert jalali to georgian\n",
    "df[\"gdate\"] = df[\"jdate\"].jalali.to_gregorian()\n"
   ]
  },
  {
   "attachments": {},
   "cell_type": "markdown",
   "metadata": {},
   "source": [
    "## Convert Jalali to georgian  Method 2"
   ]
  },
  {
   "cell_type": "code",
   "execution_count": null,
   "metadata": {},
   "outputs": [],
   "source": [
    "\n",
    "import jdatetime\n",
    "\n",
    "jalali_str = '1399-03-15'\n",
    "jalali_str = jdatetime.datetime.strptime(jalali_str, '%Y-%m-%d').date()\n",
    "jalali_str = jalali_str.togregorian()\n",
    "print(jalali_str)"
   ]
  }
 ],
 "metadata": {
  "kernelspec": {
   "display_name": "base",
   "language": "python",
   "name": "python3"
  },
  "language_info": {
   "name": "python",
   "version": "3.10.9"
  },
  "orig_nbformat": 4
 },
 "nbformat": 4,
 "nbformat_minor": 2
}
