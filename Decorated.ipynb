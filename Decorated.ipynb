{
 "cells": [
  {
   "cell_type": "markdown",
   "metadata": {},
   "source": [
    "## به تابعب که فراخانی می شود خصلت های جدید میدهد\n",
    "+   درون کدش تابع را می گیرد و با کدهای دیگر جمع میکند\n",
    "+   درنتیجه خروجی آن میشود کدهای تابع فعلی بعلاوه خصلت های جدید"
   ]
  },
  {
   "cell_type": "code",
   "execution_count": null,
   "metadata": {},
   "outputs": [
    {
     "ename": "",
     "evalue": "",
     "output_type": "error",
     "traceback": [
      "\u001b[1;31mFailed to start the Kernel. \n",
      "\u001b[1;31mTypeError: 'module' object is not callable. \n",
      "\u001b[1;31mView Jupyter <a href='command:jupyter.viewOutput'>log</a> for further details."
     ]
    }
   ],
   "source": [
    "\n",
    "# first function\n",
    "def sayhi():\n",
    "    print('say hi to every body?')\n",
    "\n",
    "# Decorated function\n",
    "def decorated(func):  #<---------- get function\n",
    "    def saygoodbye():\n",
    "        func()        #<---------- call function\n",
    "        print('say goodbye!')\n",
    "    return saygoodbye"
   ]
  },
  {
   "cell_type": "markdown",
   "metadata": {},
   "source": [
    "####  تشریح\n",
    "+   در کد بالا در دکوراتیو تابع سلام با تابع خداحافظی جمع شده است"
   ]
  },
  {
   "cell_type": "code",
   "execution_count": 6,
   "metadata": {},
   "outputs": [
    {
     "name": "stdout",
     "output_type": "stream",
     "text": [
      "say hi to every body?\n"
     ]
    }
   ],
   "source": [
    "sayhi()\n"
   ]
  },
  {
   "cell_type": "code",
   "execution_count": 3,
   "metadata": {},
   "outputs": [
    {
     "name": "stdout",
     "output_type": "stream",
     "text": [
      "say hi to every body?\n"
     ]
    }
   ],
   "source": [
    "hi = sayhi()\n",
    "hi"
   ]
  },
  {
   "cell_type": "code",
   "execution_count": 8,
   "metadata": {},
   "outputs": [
    {
     "data": {
      "text/plain": [
       "<function __main__.decorated.<locals>.saygoodbye()>"
      ]
     },
     "execution_count": 8,
     "metadata": {},
     "output_type": "execute_result"
    }
   ],
   "source": [
    "decorated(sayhi)"
   ]
  },
  {
   "cell_type": "code",
   "execution_count": 11,
   "metadata": {},
   "outputs": [
    {
     "name": "stdout",
     "output_type": "stream",
     "text": [
      "say hi to every body?\n",
      "say goodbye!\n"
     ]
    }
   ],
   "source": [
    "dec = decorated(sayhi)\n",
    "dec()"
   ]
  },
  {
   "cell_type": "markdown",
   "metadata": {},
   "source": [
    "می‌توان مشاهده کرد که تابع دکوراتور کارکردهای جدیدی را به تابع اصلی می‌افزاید. این امر مشابه بسته‌بندی یک هدیه است. دکوراتور مانند یک «پوشش‌دهنده»  عمل می‌کند. ماهیت شیئی که دکوریت می‌شود (در  واقع هدیه درون آن است) تغییر نمی‌کند. اما  اکنون، زیبا به نظر می‌رسد زیرا دکوریت شده است."
   ]
  },
  {
   "cell_type": "markdown",
   "metadata": {},
   "source": [
    "##  سینتکس دکراتیو\n",
    "+   دکوراتیو را به همراه سینتکس زیر به کار میگیرند\n",
    "+   @"
   ]
  },
  {
   "cell_type": "code",
   "execution_count": 13,
   "metadata": {},
   "outputs": [],
   "source": [
    "@decorated\n",
    "def sayhi():\n",
    "    print('I have nothing to say! ')"
   ]
  },
  {
   "cell_type": "markdown",
   "metadata": {},
   "source": [
    "+   کارکرد"
   ]
  },
  {
   "cell_type": "code",
   "execution_count": 14,
   "metadata": {},
   "outputs": [
    {
     "name": "stdout",
     "output_type": "stream",
     "text": [
      "I have nothing to say! \n",
      "say goodbye!\n"
     ]
    }
   ],
   "source": [
    "sayhi()"
   ]
  },
  {
   "cell_type": "markdown",
   "metadata": {},
   "source": [
    "## مثال"
   ]
  },
  {
   "cell_type": "code",
   "execution_count": 15,
   "metadata": {},
   "outputs": [],
   "source": [
    "def divide(a,b):\n",
    "    return a/b"
   ]
  },
  {
   "cell_type": "code",
   "execution_count": 16,
   "metadata": {},
   "outputs": [
    {
     "data": {
      "text/plain": [
       "1.5"
      ]
     },
     "execution_count": 16,
     "metadata": {},
     "output_type": "execute_result"
    }
   ],
   "source": [
    "divide(3,2)"
   ]
  },
  {
   "cell_type": "code",
   "execution_count": 17,
   "metadata": {},
   "outputs": [
    {
     "ename": "ZeroDivisionError",
     "evalue": "division by zero",
     "output_type": "error",
     "traceback": [
      "\u001b[1;31m---------------------------------------------------------------------------\u001b[0m",
      "\u001b[1;31mZeroDivisionError\u001b[0m                         Traceback (most recent call last)",
      "Cell \u001b[1;32mIn [17], line 1\u001b[0m\n\u001b[1;32m----> 1\u001b[0m \u001b[43mdevide\u001b[49m\u001b[43m(\u001b[49m\u001b[38;5;241;43m3\u001b[39;49m\u001b[43m,\u001b[49m\u001b[38;5;241;43m0\u001b[39;49m\u001b[43m)\u001b[49m\n",
      "Cell \u001b[1;32mIn [15], line 2\u001b[0m, in \u001b[0;36mdevide\u001b[1;34m(a, b)\u001b[0m\n\u001b[0;32m      1\u001b[0m \u001b[38;5;28;01mdef\u001b[39;00m \u001b[38;5;21mdevide\u001b[39m(a,b):\n\u001b[1;32m----> 2\u001b[0m     \u001b[38;5;28;01mreturn\u001b[39;00m \u001b[43ma\u001b[49m\u001b[38;5;241;43m/\u001b[39;49m\u001b[43mb\u001b[49m\n",
      "\u001b[1;31mZeroDivisionError\u001b[0m: division by zero"
     ]
    }
   ],
   "source": [
    "divide(3,0)"
   ]
  },
  {
   "cell_type": "markdown",
   "metadata": {},
   "source": [
    "+   برای بررسی صفر نبودن عدد دوم از دکوراتیو استفاده میکنیم"
   ]
  },
  {
   "cell_type": "code",
   "execution_count": 19,
   "metadata": {},
   "outputs": [],
   "source": [
    "def checkDevide(func):\n",
    "    def inner(a,b):\n",
    "        if b == 0:\n",
    "            print('Whoops! cannot divide')\n",
    "            return\n",
    "        return func(a,b)\n",
    "    return inner"
   ]
  },
  {
   "cell_type": "code",
   "execution_count": 23,
   "metadata": {},
   "outputs": [],
   "source": [
    "@checkDevide\n",
    "def newdivide(a,b):\n",
    "    return a/b"
   ]
  },
  {
   "cell_type": "code",
   "execution_count": 24,
   "metadata": {},
   "outputs": [
    {
     "name": "stdout",
     "output_type": "stream",
     "text": [
      "Whoops! cannot divide\n"
     ]
    }
   ],
   "source": [
    "newdivide(3,0)"
   ]
  },
  {
   "cell_type": "code",
   "execution_count": 25,
   "metadata": {},
   "outputs": [
    {
     "data": {
      "text/plain": [
       "3.0"
      ]
     },
     "execution_count": 25,
     "metadata": {},
     "output_type": "execute_result"
    }
   ],
   "source": [
    "newdivide(3,1)"
   ]
  },
  {
   "cell_type": "markdown",
   "metadata": {},
   "source": [
    "## یک کاکرد جالب\n",
    "+   میتوان به کمک متد زیر دکراتیو های عمومی ساخت که با هر پارامتر ورودی کارکنند\n",
    "    +   *args \n",
    "    +   **kwargs"
   ]
  },
  {
   "cell_type": "code",
   "execution_count": 54,
   "metadata": {},
   "outputs": [],
   "source": [
    "def general_dec(func):   # <-- همیشه تابع میگیرد\n",
    "    def inner(*args,**kwargs):\n",
    "        print('up, we are in decorated function!')\n",
    "        func(*args,**kwargs)\n",
    "        print('down, we are in decorated function!')\n",
    "    return inner"
   ]
  },
  {
   "cell_type": "code",
   "execution_count": 55,
   "metadata": {},
   "outputs": [],
   "source": [
    "@general_dec\n",
    "def saysomethings(a,b,x):\n",
    "    print(rf' hai {a} are you with {b} in {x}')"
   ]
  },
  {
   "cell_type": "code",
   "execution_count": 56,
   "metadata": {},
   "outputs": [
    {
     "name": "stdout",
     "output_type": "stream",
     "text": [
      "up, we are in decorated function!\n",
      " hai ali are you with ahmad in park\n",
      "down, we are in decorated function!\n"
     ]
    }
   ],
   "source": [
    "saysomethings('ali','ahmad','park')"
   ]
  },
  {
   "cell_type": "markdown",
   "metadata": {},
   "source": [
    "## زنجیر کردن دکراتیو ها\n",
    "+   قرار داد چند دکراتیو پشت سر هم "
   ]
  },
  {
   "cell_type": "code",
   "execution_count": 57,
   "metadata": {},
   "outputs": [],
   "source": [
    "def first(func):   # <-- همیشه تابع میگیرد\n",
    "    def inner(*args,**kwargs):\n",
    "        print('up,first  decorated !','*'*10)\n",
    "        func(*args,**kwargs)\n",
    "        print('down,first decorated !','*'*10)\n",
    "    return inner\n",
    "\n",
    "\n",
    "def second(func):   # <-- همیشه تابع میگیرد\n",
    "    def inner(*args,**kwargs):\n",
    "        print('up, second  decorated !','-'*10)\n",
    "        func(*args,**kwargs)\n",
    "        print('down, second decorated !','-'*10)\n",
    "    return inner"
   ]
  },
  {
   "cell_type": "code",
   "execution_count": 58,
   "metadata": {},
   "outputs": [],
   "source": [
    "@first\n",
    "@second\n",
    "def saysomethings(a,b,x):\n",
    "    print(rf' hai {a} are you with {b} in {x}')"
   ]
  },
  {
   "cell_type": "code",
   "execution_count": 59,
   "metadata": {},
   "outputs": [
    {
     "name": "stdout",
     "output_type": "stream",
     "text": [
      "up,first  decorated ! **********\n",
      "up, second  decorated ! ----------\n",
      " hai ali are you with ahmad in park\n",
      "down, second decorated ! ----------\n",
      "down,first decorated ! **********\n"
     ]
    }
   ],
   "source": [
    "saysomethings('ali','ahmad','park')"
   ]
  }
 ],
 "metadata": {
  "kernelspec": {
   "display_name": "Python 3.10.7 64-bit",
   "language": "python",
   "name": "python3"
  },
  "language_info": {
   "codemirror_mode": {
    "name": "ipython",
    "version": 3
   },
   "file_extension": ".py",
   "mimetype": "text/x-python",
   "name": "python",
   "nbconvert_exporter": "python",
   "pygments_lexer": "ipython3",
   "version": "3.10.7"
  },
  "orig_nbformat": 4,
  "vscode": {
   "interpreter": {
    "hash": "c5431442ea00844835fa45d5ecfd2bb6879e4a3559b45a48168ff386f7c6a82c"
   }
  }
 },
 "nbformat": 4,
 "nbformat_minor": 2
}
