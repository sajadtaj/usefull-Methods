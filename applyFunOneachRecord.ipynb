{
 "cells": [
  {
   "cell_type": "code",
   "execution_count": null,
   "metadata": {},
   "outputs": [],
   "source": [
    "\n",
    "import re\n",
    "import pandas as pd\n",
    "strike_Info = pd.DataFrame()\n",
    "\n",
    "\n",
    "\n",
    "## Use Apply\n",
    "\n",
    "def extractStr(row):\n",
    "    return re.findall('\\D+', row)\n",
    "    \n",
    "strike_Info['name'] = strike_Info['Symbol'].apply(extractStr).values[0][0]\n",
    "strike_Info"
   ]
  },
  {
   "cell_type": "code",
   "execution_count": null,
   "metadata": {},
   "outputs": [],
   "source": []
  }
 ],
 "metadata": {
  "language_info": {
   "name": "python"
  },
  "orig_nbformat": 4
 },
 "nbformat": 4,
 "nbformat_minor": 2
}
