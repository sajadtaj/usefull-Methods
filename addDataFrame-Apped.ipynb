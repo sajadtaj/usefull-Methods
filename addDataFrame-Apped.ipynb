{
 "cells": [
  {
   "cell_type": "code",
   "execution_count": null,
   "metadata": {},
   "outputs": [
    {
     "ename": "",
     "evalue": "",
     "output_type": "error",
     "traceback": [
      "\u001b[1;31mFailed to start the Kernel. \n",
      "\u001b[1;31mTypeError: 'module' object is not callable. \n",
      "\u001b[1;31mView Jupyter <a href='command:jupyter.viewOutput'>log</a> for further details."
     ]
    }
   ],
   "source": [
    "import pandas as pd\n",
    "\n",
    "data1 = {\n",
    "  \"age\": [16, 14, 10],\n",
    "  \"qualified\": [True, True, True]\n",
    "}\n",
    "df1 = pd.DataFrame(data1)\n",
    "\n",
    "data2 = {\n",
    "  \"age\": [55, 40],\n",
    "  \"qualified\": [True, False]\n",
    "}\n",
    "df2 = pd.DataFrame(data2)\n",
    "\n",
    "newdf = df1.append(df2)"
   ]
  },
  {
   "cell_type": "code",
   "execution_count": null,
   "metadata": {},
   "outputs": [],
   "source": []
  }
 ],
 "metadata": {
  "kernelspec": {
   "display_name": "Python 3.10.7 64-bit",
   "language": "python",
   "name": "python3"
  },
  "language_info": {
   "name": "python",
   "version": "3.10.7"
  },
  "orig_nbformat": 4,
  "vscode": {
   "interpreter": {
    "hash": "c5431442ea00844835fa45d5ecfd2bb6879e4a3559b45a48168ff386f7c6a82c"
   }
  }
 },
 "nbformat": 4,
 "nbformat_minor": 2
}
