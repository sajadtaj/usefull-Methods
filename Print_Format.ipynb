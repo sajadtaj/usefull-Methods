{
 "cells": [
  {
   "cell_type": "code",
   "execution_count": 23,
   "metadata": {},
   "outputs": [],
   "source": [
    "import datetime"
   ]
  },
  {
   "cell_type": "code",
   "execution_count": 45,
   "metadata": {},
   "outputs": [],
   "source": [
    "x : int = 25000000\n",
    "s : str = 'Hello'\n",
    "f : float = 2054.2569\n",
    "d = datetime.datetime.now()\n",
    "current_date = datetime.date.today()\n",
    "# datetime(year, month, day, hour, minute, second, microsecond)\n",
    "b = datetime(2022, 12, 28, 23, 55, 59, 342380)\n",
    "b_1 = datetime(year = 2018, month = 7, day = 12, hour = 7, minute = 9, second = 33)\n"
   ]
  },
  {
   "cell_type": "code",
   "execution_count": 26,
   "metadata": {},
   "outputs": [
    {
     "name": "stdout",
     "output_type": "stream",
     "text": [
      "       Hello         :\n",
      "               Hello :\n",
      "Hello                :\n",
      "Hello||||||||||||||| :\n",
      "*******Hello******** :\n"
     ]
    }
   ],
   "source": [
    "print(f'{s:^20} :') # set center\n",
    "print(f'{s:>20} :') # set center\n",
    "print(f'{s:<20} :') # set center\n",
    "print(f'{s:|<20} :') # set center\n",
    "print(f'{s:*^20} :') # set center"
   ]
  },
  {
   "cell_type": "code",
   "execution_count": 42,
   "metadata": {},
   "outputs": [
    {
     "name": "stdout",
     "output_type": "stream",
     "text": [
      "25,000,000 \n",
      " 2545 + x = 25002545 \n",
      "25_000_000 \n"
     ]
    }
   ],
   "source": [
    "print(f'{x:,} ')        \n",
    "print(f'{ 2545 + x = } ') \n",
    "print(f'{x:_} ') "
   ]
  },
  {
   "cell_type": "code",
   "execution_count": 33,
   "metadata": {},
   "outputs": [
    {
     "name": "stdout",
     "output_type": "stream",
     "text": [
      "2,054.2569 \n",
      " 2.05e+03 \n"
     ]
    }
   ],
   "source": [
    "print(f'{f:,} ')        \n",
    "print(f'{ f: .3} ') \n"
   ]
  },
  {
   "cell_type": "code",
   "execution_count": 55,
   "metadata": {},
   "outputs": [
    {
     "name": "stdout",
     "output_type": "stream",
     "text": [
      "Time :  09:04:56 \n",
      "Date :  24-03-30 \n",
      "Date :  30 March, 2024 \n",
      "Date + Time :  03/30/2024, 09:04:56 \n"
     ]
    }
   ],
   "source": [
    "print(f'Time : {d: %H:%M:%S} ')        \n",
    "print(f'Date : {d: %y-%m-%d} ')        \n",
    "print(f'Date : {d: %d %B, %Y} ')        \n",
    "print(f'Date + Time : {d: %m/%d/%Y, %H:%M:%S} ')        \n"
   ]
  },
  {
   "cell_type": "code",
   "execution_count": null,
   "metadata": {},
   "outputs": [],
   "source": []
  }
 ],
 "metadata": {
  "kernelspec": {
   "display_name": "Python 3",
   "language": "python",
   "name": "python3"
  },
  "language_info": {
   "codemirror_mode": {
    "name": "ipython",
    "version": 3
   },
   "file_extension": ".py",
   "mimetype": "text/x-python",
   "name": "python",
   "nbconvert_exporter": "python",
   "pygments_lexer": "ipython3",
   "version": "3.11.3"
  }
 },
 "nbformat": 4,
 "nbformat_minor": 2
}
