{
 "cells": [
  {
   "cell_type": "markdown",
   "metadata": {},
   "source": [
    "## Convert 20230419 to 2023-04-19"
   ]
  },
  {
   "cell_type": "code",
   "execution_count": null,
   "metadata": {},
   "outputs": [],
   "source": [
    "import pandas as pd\n",
    "df['Date'] = pd.to_datetime(df['<DTYYYYMMDD>'], format=\"%Y%m%d\", errors='coerce')\n",
    "df['Date'].fillna(pd.NaT, inplace=True)   \n",
    "df['Date'] = df['Date'].dt.strftime(\"%Y-%m-%d\")"
   ]
  },
  {
   "attachments": {},
   "cell_type": "markdown",
   "metadata": {},
   "source": [
    "## Splite Date & Time\n",
    "> 2023-04-19 10:23:20 -->  \\\n",
    "> time : 2023-04-19  \\\n",
    "> date : 10:23:20  "
   ]
  },
  {
   "attachments": {},
   "cell_type": "markdown",
   "metadata": {},
   "source": [
    "## change in date time format"
   ]
  },
  {
   "attachments": {},
   "cell_type": "markdown",
   "metadata": {},
   "source": [
    "import pandas as pd\n",
    " \n",
    "# change in date time format\n",
    "date_sr = pd.to_datetime(pd.Series(\"2012-09-02\"))\n",
    "change_format = date_sr.dt.strftime('%d-%m-%Y')\n",
    " \n",
    "# Print the formatted date\n",
    "print(change_format)"
   ]
  },
  {
   "attachments": {},
   "cell_type": "markdown",
   "metadata": {},
   "source": [
    "## Convert STR to Time"
   ]
  },
  {
   "attachments": {},
   "cell_type": "markdown",
   "metadata": {},
   "source": [
    "## convert column to Data\n",
    "\n",
    "df.index = pd.to_datetime(df.index)\n",
    "\n",
    "# Convert Str to Date\n",
    "\n",
    "df.index= datetime.datetime.strptime(df.index, '%Y-%m-%d').date()"
   ]
  },
  {
   "attachments": {},
   "cell_type": "markdown",
   "metadata": {},
   "source": [
    "## Sum 2 Date "
   ]
  },
  {
   "attachments": {},
   "cell_type": "markdown",
   "metadata": {},
   "source": [
    "# sum by Days \n",
    "date_1 = datetime.datetime.strptime(start_date, \"%m/%d/%y\")\n",
    "end_date = date_1 + datetime.timedelta(days=10)"
   ]
  }
 ],
 "metadata": {
  "kernelspec": {
   "display_name": "base",
   "language": "python",
   "name": "python3"
  },
  "language_info": {
   "name": "python",
   "version": "3.10.9"
  },
  "orig_nbformat": 4
 },
 "nbformat": 4,
 "nbformat_minor": 2
}
