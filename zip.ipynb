{
 "cells": [
  {
   "cell_type": "code",
   "execution_count": 2,
   "metadata": {},
   "outputs": [],
   "source": [
    "import pandas as pd"
   ]
  },
  {
   "cell_type": "markdown",
   "metadata": {},
   "source": [
    "## The zip() function:\n",
    "برای پیشروی همگام در هر سطر برای چند دیتافریم\n"
   ]
  },
  {
   "cell_type": "code",
   "execution_count": 4,
   "metadata": {},
   "outputs": [
    {
     "name": "stdout",
     "output_type": "stream",
     "text": [
      "        Date    Open    High     Low   Close  Volume\n",
      "0 2023-01-01  100.50  102.00   99.00  101.75   10000\n",
      "1 2023-01-02  101.25  103.50  100.00  102.25   12000\n",
      "2 2023-01-03  102.00  102.75  101.25  101.50    8000\n",
      "3 2023-01-04  100.75  101.50   99.50  100.25    9000\n",
      "~~~~~~~~~~~~~~~~~~~~~~~~~\n",
      "        Date Action   Price  Quantity  Amount\n",
      "0 2023-02-15    Buy  105.00       100   10500\n",
      "1 2023-03-10   Sell  110.25        80    8820\n",
      "~~~~~~~~~~~~~~~~~~~~~~~~~\n",
      "  Product Name     Category\n",
      "0        Shirt     Clothing\n",
      "1        Jeans     Clothing\n",
      "2          Hat  Accessories\n",
      "~~~~~~~~~~~~~~~~~~~~~~~~~\n"
     ]
    }
   ],
   "source": [
    "data1 = {\n",
    "    'Date': pd.to_datetime(['2023-01-01', '2023-01-02', '2023-01-03', '2023-01-04']),\n",
    "    'Open': [100.50, 101.25, 102.00, 100.75],\n",
    "    'High': [102.00, 103.50, 102.75, 101.50],\n",
    "    'Low': [99.00, 100.00, 101.25, 99.50],\n",
    "    'Close': [101.75, 102.25, 101.50, 100.25],\n",
    "    'Volume': [10000, 12000, 8000, 9000]\n",
    "}\n",
    "data2 = {\n",
    "    'Date': pd.to_datetime(['2023-02-15', '2023-03-10']),\n",
    "    'Action': ['Buy', 'Sell'],\n",
    "    'Price': [105.00, 110.25],\n",
    "    'Quantity': [100, 80],\n",
    "    'Amount': [10500, 8820]\n",
    "}\n",
    "\n",
    "data3 = {\n",
    "    'Product Name': ['Shirt', 'Jeans', 'Hat'],\n",
    "    'Category': ['Clothing', 'Clothing', 'Accessories']}\n",
    "\n",
    "\n",
    "df1 = pd.DataFrame(data1)\n",
    "df2 = pd.DataFrame(data2)\n",
    "df3 = pd.DataFrame(data3)\n",
    "for i in [df1,df2,df3]:\n",
    "    print(i)\n",
    "    print('~'*25)\n"
   ]
  },
  {
   "cell_type": "code",
   "execution_count": 10,
   "metadata": {},
   "outputs": [
    {
     "name": "stdout",
     "output_type": "stream",
     "text": [
      "('Date', 'Date', 'Product Name')\n",
      "('Open', 'Action', 'Category')\n"
     ]
    }
   ],
   "source": [
    "for i in zip(df1,df2,df3):\n",
    "    print(i)"
   ]
  },
  {
   "cell_type": "markdown",
   "metadata": {},
   "source": [
    "####  به اندازه طول کوتاهترین دیتا فریم جلو می رود"
   ]
  },
  {
   "cell_type": "code",
   "execution_count": 14,
   "metadata": {},
   "outputs": [
    {
     "name": "stdout",
     "output_type": "stream",
     "text": [
      "100.5\n",
      "105.0\n",
      "Product Name\n",
      "101.25\n",
      "110.25\n",
      "Category\n"
     ]
    }
   ],
   "source": [
    "for a,b,c in zip(df1.Open , df2.Price,df3):\n",
    "    print(a)\n",
    "    print(b)\n",
    "    print(c)"
   ]
  },
  {
   "cell_type": "code",
   "execution_count": null,
   "metadata": {},
   "outputs": [],
   "source": []
  }
 ],
 "metadata": {
  "kernelspec": {
   "display_name": "backtest",
   "language": "python",
   "name": "python3"
  },
  "language_info": {
   "codemirror_mode": {
    "name": "ipython",
    "version": 3
   },
   "file_extension": ".py",
   "mimetype": "text/x-python",
   "name": "python",
   "nbconvert_exporter": "python",
   "pygments_lexer": "ipython3",
   "version": "3.10.7"
  }
 },
 "nbformat": 4,
 "nbformat_minor": 2
}
