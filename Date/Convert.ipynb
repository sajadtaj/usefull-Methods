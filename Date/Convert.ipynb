{
 "cells": [
  {
   "cell_type": "markdown",
   "metadata": {},
   "source": [
    "## Convert STR to Time\n",
    "> '2012-05-15' -> date(2012-05-15)"
   ]
  },
  {
   "cell_type": "code",
   "execution_count": null,
   "metadata": {},
   "outputs": [],
   "source": [
    "## convert column to Data\n",
    "\n",
    "df.index = pd.to_datetime(df.index)\n",
    "\n",
    "# Convert Str to Date\n",
    "\n",
    "df.index= datetime.datetime.strptime(df.index, '%Y-%m-%d').date()"
   ]
  },
  {
   "cell_type": "markdown",
   "metadata": {},
   "source": [
    "## Convert Jalali to georgian"
   ]
  },
  {
   "cell_type": "code",
   "execution_count": null,
   "metadata": {},
   "outputs": [],
   "source": [
    "import jalali_pandas\n",
    "import datetime \n",
    "import jalali\n",
    "\n",
    "#convert string to date \n",
    "data['jdate']= data['jdate'].jalali.parse_jalali(\"%Y/%m/%d\")\n",
    "\n",
    "#convert jalali to georgian\n",
    "df[\"gdate\"] = df[\"jdate\"].jalali.to_gregorian()"
   ]
  },
  {
   "cell_type": "markdown",
   "metadata": {},
   "source": [
    "## Convert Jalali to georgian  Method 2"
   ]
  },
  {
   "cell_type": "code",
   "execution_count": null,
   "metadata": {},
   "outputs": [],
   "source": [
    "import jdatetime\n",
    "\n",
    "jalali_str = '1399-03-15'\n",
    "jalali_str = jdatetime.datetime.strptime(jalali_str, '%Y-%m-%d').date()\n",
    "jalali_str = jalali_str.togregorian()\n",
    "print(jalali_str)"
   ]
  },
  {
   "cell_type": "markdown",
   "metadata": {},
   "source": [
    "## جدید ترین نسخه تغییر تاریخ فارسی به انگلیسی "
   ]
  },
  {
   "cell_type": "code",
   "execution_count": null,
   "metadata": {},
   "outputs": [],
   "source": [
    "## جدید ترین نسخه تغییر تاریخ فارسی به انگلیسی \n",
    "import jalali_pandas\n",
    "import datetime \n",
    "import jalali\n",
    "def jalaliTogregorian(date):\n",
    "    def format_date(date):\n",
    "        # Get Just Date Without hourse\n",
    "        formatted_date = date[:10]\n",
    "        # If format is persian change to english\n",
    "        persian_to_english = {\n",
    "        '۰': '0',\n",
    "        '۱': '1',\n",
    "        '۲': '2',\n",
    "        '۳': '3',\n",
    "        '۴': '4',\n",
    "        '۵': '5',\n",
    "        '۶': '6',\n",
    "        '۷': '7',\n",
    "        '۸': '8',\n",
    "        '۹': '9'\n",
    "        }\n",
    "        english_date = ''.join(persian_to_english[char] if char in persian_to_english else char for char in formatted_date)\n",
    "        return english_date\n",
    "        # convert from str to date\n",
    "    date         = date.apply(format_date)\n",
    "    date = date.jalali.parse_jalali(\"%Y/%m/%d\")\n",
    "        # Convert jalali to gregorian\n",
    "    date = date.jalali.to_gregorian()\n",
    "    return date\n",
    "\n",
    "df['Date'] =jalaliTogregorian(df['Date'])"
   ]
  },
  {
   "cell_type": "markdown",
   "metadata": {},
   "source": [
    "## Convert Jalali to georgian  Method 3"
   ]
  },
  {
   "cell_type": "code",
   "execution_count": null,
   "metadata": {},
   "outputs": [],
   "source": [
    "def jalali_to_gregorian(jalali_str):\n",
    "    # Split the Jalali date string\n",
    "    year, month, day = map(int, jalali_str.split('/'))\n",
    "    # Convert to a jdatetime.date object\n",
    "    jalali_date = jdatetime.date(year, month, day)\n",
    "    # Convert to Gregorian date\n",
    "    gregorian_date = jalali_date.togregorian()\n",
    "    # Return as a string in 'YYYY-MM-DD' format\n",
    "    return gregorian_date.strftime('%Y-%m-%d')\n",
    "\n",
    "\n",
    "df['GDate'] = df['JDate'].apply(jalali_to_gregorian)"
   ]
  }
 ],
 "metadata": {
  "kernelspec": {
   "display_name": "Python 3",
   "language": "python",
   "name": "python3"
  },
  "language_info": {
   "codemirror_mode": {
    "name": "ipython",
    "version": 3
   },
   "file_extension": ".py",
   "mimetype": "text/x-python",
   "name": "python",
   "nbconvert_exporter": "python",
   "pygments_lexer": "ipython3",
   "version": "3.10.12"
  }
 },
 "nbformat": 4,
 "nbformat_minor": 2
}
