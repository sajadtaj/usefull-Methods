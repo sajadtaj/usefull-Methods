{
 "cells": [
  {
   "cell_type": "code",
   "execution_count": null,
   "metadata": {},
   "outputs": [],
   "source": [
    "from datatime import date \n",
    "from datatime import time \n",
    "from datatime import datatime\n",
    "from datatime import timedelta"
   ]
  },
  {
   "cell_type": "markdown",
   "metadata": {},
   "source": [
    "## Sum 2 Date "
   ]
  },
  {
   "cell_type": "code",
   "execution_count": null,
   "metadata": {},
   "outputs": [],
   "source": [
    "# sum by Days \n",
    "date_1 = datetime.datetime.strptime(start_date, \"%m/%d/%y\")\n",
    "end_date = date_1 + datetime.timedelta(days=10)"
   ]
  },
  {
   "cell_type": "markdown",
   "metadata": {},
   "source": [
    "## TimeDelta\n",
    "> + برای تخمین زمان قبل و بعد از یک تاریخ مشخص\n",
    "> + مثلا 5 روز و یک دقیقه و 30 ثانیه بعد\n",
    "> + 10 روز و 10 ساعت 55 دقیقه بعد از امروز\n",
    "> + 1500 ثانیه بعد "
   ]
  },
  {
   "cell_type": "code",
   "execution_count": null,
   "metadata": {},
   "outputs": [],
   "source": [
    "gap = timedelta( seconds= 1500)\n",
    "today = datetime.now()\n",
    "print('today :',today)\n",
    "print('gap   :', gap)\n",
    "\n",
    "print('--'*8)\n",
    "print(today + gap)"
   ]
  }
 ],
 "metadata": {
  "kernelspec": {
   "display_name": "Python 3",
   "language": "python",
   "name": "python3"
  },
  "language_info": {
   "codemirror_mode": {
    "name": "ipython",
    "version": 3
   },
   "file_extension": ".py",
   "mimetype": "text/x-python",
   "name": "python",
   "nbconvert_exporter": "python",
   "pygments_lexer": "ipython3",
   "version": "3.10.12"
  }
 },
 "nbformat": 4,
 "nbformat_minor": 2
}
