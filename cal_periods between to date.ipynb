{
 "cells": [
  {
   "cell_type": "code",
   "execution_count": null,
   "metadata": {},
   "outputs": [
    {
     "ename": "",
     "evalue": "",
     "output_type": "error",
     "traceback": [
      "\u001b[1;31mFailed to start the Kernel. \n",
      "\u001b[1;31mTypeError: 'module' object is not callable. \n",
      "\u001b[1;31mView Jupyter <a href='command:jupyter.viewOutput'>log</a> for further details."
     ]
    }
   ],
   "source": [
    "from datetime import datetime, date\n",
    "import ipykernel\n",
    "\n",
    "def Time_maturity(start,end):\n",
    "    \n",
    "    date_format_1 = \"%Y-%m-%d %H:%M:%S\"\n",
    "    date_format_2 = \"%Y-%m-%d\"\n",
    "    try:\n",
    "        a    = datetime.strptime(start, date_format_1)\n",
    "        b    = datetime.strptime(end, date_format_1)\n",
    "    except ValueError:\n",
    "        a    = datetime.strptime(start, date_format_2)\n",
    "        b    = datetime.strptime(end, date_format_2)\n",
    "\n",
    "    period      = b - a\n",
    "    return period.days"
   ]
  },
  {
   "cell_type": "markdown",
   "metadata": {},
   "source": []
  },
  {
   "cell_type": "code",
   "execution_count": null,
   "metadata": {},
   "outputs": [
    {
     "ename": "",
     "evalue": "",
     "output_type": "error",
     "traceback": [
      "\u001b[1;31mFailed to start the Kernel. \n",
      "\u001b[1;31mTypeError: 'module' object is not callable. \n",
      "\u001b[1;31mView Jupyter <a href='command:jupyter.viewOutput'>log</a> for further details."
     ]
    }
   ],
   "source": [
    "start = '2022-01-05' \n",
    "end   = '2022-01-15'\n",
    "days = Time_maturity(start,end)\n",
    "days"
   ]
  },
  {
   "cell_type": "code",
   "execution_count": 5,
   "metadata": {},
   "outputs": [
    {
     "data": {
      "text/plain": [
       "10"
      ]
     },
     "execution_count": 5,
     "metadata": {},
     "output_type": "execute_result"
    }
   ],
   "source": [
    "days"
   ]
  },
  {
   "cell_type": "code",
   "execution_count": null,
   "metadata": {},
   "outputs": [],
   "source": []
  }
 ],
 "metadata": {
  "kernelspec": {
   "display_name": "Python 3.9.12 ('base')",
   "language": "python",
   "name": "python3"
  },
  "language_info": {
   "codemirror_mode": {
    "name": "ipython",
    "version": 3
   },
   "file_extension": ".py",
   "mimetype": "text/x-python",
   "name": "python",
   "nbconvert_exporter": "python",
   "pygments_lexer": "ipython3",
   "version": "3.9.16"
  },
  "orig_nbformat": 4,
  "vscode": {
   "interpreter": {
    "hash": "9bbeda1c6abbb2c21c5105a945de5942c2ccd7a899dc663f2be4d1aec5ad013b"
   }
  }
 },
 "nbformat": 4,
 "nbformat_minor": 2
}
