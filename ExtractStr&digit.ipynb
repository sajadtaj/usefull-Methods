{
 "cells": [
  {
   "cell_type": "code",
   "execution_count": null,
   "metadata": {},
   "outputs": [],
   "source": [
    "import re\n",
    "\n",
    "\n",
    "s ='1022sajad'\n",
    "re.findall('\\D+', s)   # Extract sajad\n",
    "re.findall('\\d+', s)   # Extract 1022\n",
    "\n"
   ]
  },
  {
   "cell_type": "code",
   "execution_count": null,
   "metadata": {},
   "outputs": [],
   "source": [
    "def Extract_Symol(x):\n",
    "    Symol    = re.findall('\\D+', x)   # Extract sajad\n",
    "    return Symol[0]\n",
    "def Extract_Contract(x):\n",
    "    Contract = re.findall('\\d+', x)   # Extract 1022\n",
    "    return Contract[0]\n",
    "    \n",
    "Filter['Nemad']    = Filter['Symbol'].apply(Extract_Symol)\n",
    "Filter['Contract'] = Filter['Symbol'].apply(Extract_Contract)"
   ]
  }
 ],
 "metadata": {
  "language_info": {
   "name": "python"
  },
  "orig_nbformat": 4
 },
 "nbformat": 4,
 "nbformat_minor": 2
}
