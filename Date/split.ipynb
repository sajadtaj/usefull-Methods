{
 "cells": [
  {
   "cell_type": "code",
   "execution_count": 1,
   "metadata": {},
   "outputs": [],
   "source": [
    "import pandas as pd "
   ]
  },
  {
   "cell_type": "code",
   "execution_count": 11,
   "metadata": {},
   "outputs": [],
   "source": [
    "df = pd.Series(['2012-10-21 09:30:21.00003',\n",
    "                '2019-7-18 12:32:28.000023',\n",
    "                '2008-02-2 10:34:12.00002',\n",
    "                '2010-4-22 09:25:14.0001',\n",
    "                '2019-11-8 02:22:34.005'\n",
    "                \n",
    "                ]) \n",
    "idx = ['Day 1', 'Day 2', 'Day 3', 'Day 4', 'Day 5'] \n",
    "df.index = idx \n",
    "\n",
    "\n",
    "df_2 = pd.Series(pd.date_range('2012-12-12 12:12', periods = 5, freq = '5ns')) \n",
    "idx = ['Day 1', 'Day 2', 'Day 3', 'Day 4', 'Day 5'] \n",
    "df_2.index = idx "
   ]
  },
  {
   "cell_type": "markdown",
   "metadata": {},
   "source": [
    "## Splitted -> Nanosecond"
   ]
  },
  {
   "cell_type": "code",
   "execution_count": 12,
   "metadata": {},
   "outputs": [
    {
     "name": "stdout",
     "output_type": "stream",
     "text": [
      "Day 1     0\n",
      "Day 2     5\n",
      "Day 3    10\n",
      "Day 4    15\n",
      "Day 5    20\n",
      "dtype: int32\n"
     ]
    }
   ],
   "source": [
    "n = df_2.dt.nanosecond \n",
    "print(n)"
   ]
  },
  {
   "cell_type": "markdown",
   "metadata": {},
   "source": [
    "## day of week"
   ]
  },
  {
   "cell_type": "code",
   "execution_count": 13,
   "metadata": {},
   "outputs": [
    {
     "name": "stdout",
     "output_type": "stream",
     "text": [
      "Day 1    2\n",
      "Day 2    2\n",
      "Day 3    2\n",
      "Day 4    2\n",
      "Day 5    2\n",
      "dtype: int32\n"
     ]
    }
   ],
   "source": [
    "result = df_2.dt.dayofweek \n",
    "print(result)"
   ]
  },
  {
   "cell_type": "code",
   "execution_count": 14,
   "metadata": {},
   "outputs": [
    {
     "name": "stdout",
     "output_type": "stream",
     "text": [
      "Day 1    12\n",
      "Day 2    12\n",
      "Day 3    12\n",
      "Day 4    12\n",
      "Day 5    12\n",
      "dtype: int32\n"
     ]
    }
   ],
   "source": [
    "result = df_2.dt.day \n",
    "print(result)"
   ]
  },
  {
   "cell_type": "code",
   "execution_count": null,
   "metadata": {},
   "outputs": [],
   "source": []
  }
 ],
 "metadata": {
  "kernelspec": {
   "display_name": "Python 3",
   "language": "python",
   "name": "python3"
  },
  "language_info": {
   "codemirror_mode": {
    "name": "ipython",
    "version": 3
   },
   "file_extension": ".py",
   "mimetype": "text/x-python",
   "name": "python",
   "nbconvert_exporter": "python",
   "pygments_lexer": "ipython3",
   "version": "3.10.12"
  }
 },
 "nbformat": 4,
 "nbformat_minor": 2
}
