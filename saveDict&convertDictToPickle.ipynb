{
 "cells": [
  {
   "cell_type": "code",
   "execution_count": null,
   "metadata": {},
   "outputs": [],
   "source": [
    "import pickle\n",
    "\n",
    "\n",
    "file_name='product\\Data\\Ex&DonSaleInEachSale.pickle'\n",
    "\n",
    "# For Save\n",
    "\n",
    "with open(file_name,'wb') as pickle_file:\n",
    "    pickle.dump(SymbolSale,pickle_file )\n",
    "\n",
    "\n",
    "# For Read\n",
    "with open(file_name,'rb') as pickle_file:\n",
    "    test = pickle.load(pickle_file )"
   ]
  },
  {
   "cell_type": "code",
   "execution_count": null,
   "metadata": {},
   "outputs": [],
   "source": [
    "my_dict = {'name':sajad , 'Family':taj}\n",
    "\n",
    "\n",
    "# To df\n",
    "df = pd.DataFrame(my_dict)"
   ]
  }
 ],
 "metadata": {
  "language_info": {
   "name": "python"
  },
  "orig_nbformat": 4
 },
 "nbformat": 4,
 "nbformat_minor": 2
}
