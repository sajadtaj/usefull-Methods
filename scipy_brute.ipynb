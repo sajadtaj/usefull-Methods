{
 "cells": [
  {
   "cell_type": "markdown",
   "metadata": {},
   "source": [
    "## Brute\n",
    "+   scipy.optimize.brute(func, ranges, args=(), Ns=20, full_output=0, finish=<function fmin at 0x49e4e60>, disp=False)"
   ]
  },
  {
   "cell_type": "markdown",
   "metadata": {},
   "source": [
    "func : callable\n",
    "\n",
    "+   The objective function to be minimized. Must be in the form f(x, *args), where x is the argument in the form of a 1-D array and args is a tuple of any additional fixed parameters needed to completely specify the function.\n",
    "\n",
    "ranges : tuple\n",
    "\n",
    "+   Each component of the ranges tuple must be either a “slice object” or a range tuple of the form (low, high). The program uses these to create the grid of points on which the objective function will be computed. See Note 2 for more detail.\n",
    "\n",
    "args : tuple, optional\n",
    "\n",
    "+   Any additional fixed parameters needed to completely specify the function.\n",
    "\n",
    "Ns : int, optional\n",
    "\n",
    "+   Number of grid points along the axes, if not otherwise specified. See Note2.\n",
    "\n",
    "full_output : bool, optional\n",
    "\n",
    "+   If True, return the evaluation grid and the objective function’s values on it.\n",
    "\n",
    "finish : callable, optional\n",
    "\n",
    "+   An optimization function that is called with the result of brute force minimization as initial guess. finish should take the initial guess as positional argument, and take args, full_output and disp as keyword arguments. Use None if no “polishing” function is to be used. See Notes for more details.\n",
    "\n",
    "disp : bool, optional\n",
    "\n",
    "+   Set to True to print convergence messages."
   ]
  },
  {
   "cell_type": "code",
   "execution_count": 3,
   "metadata": {},
   "outputs": [],
   "source": [
    "from scipy import optimize\n",
    "import numpy as np"
   ]
  },
  {
   "cell_type": "code",
   "execution_count": 4,
   "metadata": {},
   "outputs": [],
   "source": [
    "params =(2,3,7,8,9,10,44,-1,2,26,1,-2,0.5)\n",
    "\n",
    "## function 1\n",
    "def f1(z,*params):\n",
    "    x,y =z\n",
    "    a,b,c,d,e,f,g,h,i,j,k,l, scale = params\n",
    "    return (a * x**2 + b * x * y + c * y**2 + d*x + e*y + f)\n",
    "\n",
    "## function 2\n",
    "def f2(z, *params):\n",
    "    x, y = z\n",
    "    a, b, c, d, e, f, g, h, i, j, k, l, scale = params\n",
    "    return (-g*np.exp(-((x-h)**2 + (y-i)**2) / scale))\n",
    "\n",
    "## function 3\n",
    "def f3(z, *params):\n",
    "    x, y = z\n",
    "    a, b, c, d, e, f, g, h, i, j, k, l, scale = params\n",
    "    return (-j*np.exp(-((x-k)**2 + (y-l)**2) / scale))\n",
    "\n",
    "## Global function\n",
    "def f(z, *params):\n",
    "    return f1(z, *params) + f2(z, *params) + f3(z, *params)"
   ]
  },
  {
   "cell_type": "code",
   "execution_count": 5,
   "metadata": {},
   "outputs": [
    {
     "data": {
      "text/plain": [
       "(slice(-4, 4, 0.25), slice(-4, 4, 0.25))"
      ]
     },
     "execution_count": 5,
     "metadata": {},
     "output_type": "execute_result"
    }
   ],
   "source": [
    "rranges = (slice(-4, 4, 0.25), slice(-4, 4, 0.25))\n",
    "rranges"
   ]
  },
  {
   "cell_type": "code",
   "execution_count": 9,
   "metadata": {},
   "outputs": [],
   "source": [
    "resbrute = optimize.brute(\n",
    "    f,\n",
    "    rranges,\n",
    "    args= params,\n",
    "    full_output=True,\n",
    "    finish= optimize.fmin\n",
    ")"
   ]
  },
  {
   "cell_type": "code",
   "execution_count": 10,
   "metadata": {},
   "outputs": [
    {
     "data": {
      "text/plain": [
       "(array([-1.05665192,  1.80834843]),\n",
       " -3.4085818767996527,\n",
       " array([[[-4.  , -4.  , -4.  , ..., -4.  , -4.  , -4.  ],\n",
       "         [-3.75, -3.75, -3.75, ..., -3.75, -3.75, -3.75],\n",
       "         [-3.5 , -3.5 , -3.5 , ..., -3.5 , -3.5 , -3.5 ],\n",
       "         ...,\n",
       "         [ 3.25,  3.25,  3.25, ...,  3.25,  3.25,  3.25],\n",
       "         [ 3.5 ,  3.5 ,  3.5 , ...,  3.5 ,  3.5 ,  3.5 ],\n",
       "         [ 3.75,  3.75,  3.75, ...,  3.75,  3.75,  3.75]],\n",
       " \n",
       "        [[-4.  , -3.75, -3.5 , ...,  3.25,  3.5 ,  3.75],\n",
       "         [-4.  , -3.75, -3.5 , ...,  3.25,  3.5 ,  3.75],\n",
       "         [-4.  , -3.75, -3.5 , ...,  3.25,  3.5 ,  3.75],\n",
       "         ...,\n",
       "         [-4.  , -3.75, -3.5 , ...,  3.25,  3.5 ,  3.75],\n",
       "         [-4.  , -3.75, -3.5 , ...,  3.25,  3.5 ,  3.75],\n",
       "         [-4.  , -3.75, -3.5 , ...,  3.25,  3.5 ,  3.75]]]),\n",
       " array([[134.        , 119.6875    , 106.25      , ...,  74.18749997,\n",
       "          85.24999999,  97.1875    ],\n",
       "        [129.125     , 115.        , 101.75      , ...,  74.74999948,\n",
       "          85.99999987,  98.12499997],\n",
       "        [124.5       , 110.5625    ,  97.5       , ...,  75.5624928 ,\n",
       "          86.99999818,  99.31249964],\n",
       "        ...,\n",
       "        [ 94.12499965,  85.24999772,  77.24998843, ..., 192.        ,\n",
       "         208.5       , 225.875     ],\n",
       "        [ 96.49999997,  87.81249979,  79.99999892, ..., 199.8125    ,\n",
       "         216.5       , 234.0625    ],\n",
       "        [ 99.125     ,  90.62499998,  82.99999992, ..., 207.875     ,\n",
       "         224.75      , 242.5       ]]))"
      ]
     },
     "execution_count": 10,
     "metadata": {},
     "output_type": "execute_result"
    }
   ],
   "source": [
    "resbrute"
   ]
  },
  {
   "cell_type": "markdown",
   "metadata": {},
   "source": [
    "### global minimum"
   ]
  },
  {
   "cell_type": "code",
   "execution_count": 11,
   "metadata": {},
   "outputs": [
    {
     "data": {
      "text/plain": [
       "array([-1.05665192,  1.80834843])"
      ]
     },
     "execution_count": 11,
     "metadata": {},
     "output_type": "execute_result"
    }
   ],
   "source": [
    "resbrute[0]"
   ]
  },
  {
   "cell_type": "markdown",
   "metadata": {},
   "source": [
    "### function value at global minimum"
   ]
  },
  {
   "cell_type": "code",
   "execution_count": 12,
   "metadata": {},
   "outputs": [
    {
     "data": {
      "text/plain": [
       "-3.4085818767996527"
      ]
     },
     "execution_count": 12,
     "metadata": {},
     "output_type": "execute_result"
    }
   ],
   "source": [
    "resbrute[1]"
   ]
  },
  {
   "cell_type": "code",
   "execution_count": 13,
   "metadata": {},
   "outputs": [],
   "source": [
    "def x():\n",
    "    return x^2"
   ]
  },
  {
   "cell_type": "code",
   "execution_count": 29,
   "metadata": {},
   "outputs": [],
   "source": [
    "rranges = (slice(-100, 100,0.25),)"
   ]
  },
  {
   "cell_type": "code",
   "execution_count": 30,
   "metadata": {},
   "outputs": [
    {
     "ename": "TypeError",
     "evalue": "x() takes 0 positional arguments but 1 was given",
     "output_type": "error",
     "traceback": [
      "\u001b[1;31m---------------------------------------------------------------------------\u001b[0m",
      "\u001b[1;31mTypeError\u001b[0m                                 Traceback (most recent call last)",
      "Cell \u001b[1;32mIn [30], line 1\u001b[0m\n\u001b[1;32m----> 1\u001b[0m resbrute \u001b[39m=\u001b[39m optimize\u001b[39m.\u001b[39;49mbrute(\n\u001b[0;32m      2\u001b[0m     x,\n\u001b[0;32m      3\u001b[0m     rranges,\n\u001b[0;32m      4\u001b[0m     full_output\u001b[39m=\u001b[39;49m\u001b[39mTrue\u001b[39;49;00m,\n\u001b[0;32m      5\u001b[0m     finish\u001b[39m=\u001b[39;49m optimize\u001b[39m.\u001b[39;49mfmin\n\u001b[0;32m      6\u001b[0m )\n",
      "File \u001b[1;32mc:\\Users\\s.tajedin\\AppData\\Local\\Programs\\Python\\Python310\\lib\\site-packages\\scipy\\optimize\\_optimize.py:3483\u001b[0m, in \u001b[0;36mbrute\u001b[1;34m(func, ranges, args, Ns, full_output, finish, disp, workers)\u001b[0m\n\u001b[0;32m   3481\u001b[0m \u001b[39m# iterate over input arrays, possibly in parallel\u001b[39;00m\n\u001b[0;32m   3482\u001b[0m \u001b[39mwith\u001b[39;00m MapWrapper(pool\u001b[39m=\u001b[39mworkers) \u001b[39mas\u001b[39;00m mapper:\n\u001b[1;32m-> 3483\u001b[0m     Jout \u001b[39m=\u001b[39m np\u001b[39m.\u001b[39marray(\u001b[39mlist\u001b[39;49m(mapper(wrapped_func, grid)))\n\u001b[0;32m   3484\u001b[0m     \u001b[39mif\u001b[39;00m (N \u001b[39m==\u001b[39m \u001b[39m1\u001b[39m):\n\u001b[0;32m   3485\u001b[0m         grid \u001b[39m=\u001b[39m (grid,)\n",
      "File \u001b[1;32mc:\\Users\\s.tajedin\\AppData\\Local\\Programs\\Python\\Python310\\lib\\site-packages\\scipy\\optimize\\_optimize.py:3556\u001b[0m, in \u001b[0;36m_Brute_Wrapper.__call__\u001b[1;34m(self, x)\u001b[0m\n\u001b[0;32m   3554\u001b[0m \u001b[39mdef\u001b[39;00m \u001b[39m__call__\u001b[39m(\u001b[39mself\u001b[39m, x):\n\u001b[0;32m   3555\u001b[0m     \u001b[39m# flatten needed for one dimensional case.\u001b[39;00m\n\u001b[1;32m-> 3556\u001b[0m     \u001b[39mreturn\u001b[39;00m \u001b[39mself\u001b[39;49m\u001b[39m.\u001b[39;49mf(np\u001b[39m.\u001b[39;49masarray(x)\u001b[39m.\u001b[39;49mflatten(), \u001b[39m*\u001b[39;49m\u001b[39mself\u001b[39;49m\u001b[39m.\u001b[39;49margs)\n",
      "\u001b[1;31mTypeError\u001b[0m: x() takes 0 positional arguments but 1 was given"
     ]
    }
   ],
   "source": [
    "resbrute = optimize.brute(\n",
    "    x,\n",
    "    rranges,\n",
    "    full_output=True,\n",
    "    finish= optimize.fmin\n",
    ")"
   ]
  },
  {
   "cell_type": "code",
   "execution_count": null,
   "metadata": {},
   "outputs": [],
   "source": []
  }
 ],
 "metadata": {
  "kernelspec": {
   "display_name": "Python 3.10.7 64-bit",
   "language": "python",
   "name": "python3"
  },
  "language_info": {
   "codemirror_mode": {
    "name": "ipython",
    "version": 3
   },
   "file_extension": ".py",
   "mimetype": "text/x-python",
   "name": "python",
   "nbconvert_exporter": "python",
   "pygments_lexer": "ipython3",
   "version": "3.10.7"
  },
  "orig_nbformat": 4,
  "vscode": {
   "interpreter": {
    "hash": "c5431442ea00844835fa45d5ecfd2bb6879e4a3559b45a48168ff386f7c6a82c"
   }
  }
 },
 "nbformat": 4,
 "nbformat_minor": 2
}
