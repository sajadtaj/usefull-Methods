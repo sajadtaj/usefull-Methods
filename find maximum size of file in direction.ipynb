{
 "cells": [
  {
   "cell_type": "code",
   "execution_count": null,
   "metadata": {},
   "outputs": [],
   "source": [
    "import glob\n",
    "import os"
   ]
  },
  {
   "cell_type": "code",
   "execution_count": null,
   "metadata": {},
   "outputs": [],
   "source": [
    "path = \"C:\\ .....\"\n",
    "# Get Direction includes many pickle files\n",
    "Direction_of_Files = glob.glob(rf'{path}/*.pickle')\n",
    "# find addres and name of pickle file that have max size\n",
    "max_file = max( Direction_of_Files, key =  lambda x: os.stat(x).st_size)"
   ]
  }
 ],
 "metadata": {
  "language_info": {
   "name": "python"
  },
  "orig_nbformat": 4
 },
 "nbformat": 4,
 "nbformat_minor": 2
}
