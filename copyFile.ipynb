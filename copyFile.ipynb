{
 "cells": [
  {
   "cell_type": "code",
   "execution_count": null,
   "metadata": {},
   "outputs": [],
   "source": [
    "import shutil\n",
    "\n",
    "original = r'original path where the file is currently stored\\file name.file extension'\n",
    "target = r'target path where the file will be copied\\file name.file extension'\n",
    "\n",
    "shutil.copyfile(original, target)"
   ]
  }
 ],
 "metadata": {
  "language_info": {
   "name": "python"
  },
  "orig_nbformat": 4
 },
 "nbformat": 4,
 "nbformat_minor": 2
}
