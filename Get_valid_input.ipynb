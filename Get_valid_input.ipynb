{
 "cells": [
  {
   "cell_type": "code",
   "execution_count": 12,
   "metadata": {},
   "outputs": [],
   "source": [
    "\n",
    "def get_valid_input(input_string, valid_options):\n",
    "    input_string += \"({})\".format(\",\".join(valid_options))\n",
    "    response = input(input_string)\n",
    "        # تا زمانی که نوع ورودی  مطابق با مقادیر مجاز نباشد\n",
    "        # از کاربر می خواهد دوبار مقادیر  را وارد کند\n",
    "    while response.lower() not in valid_options:\n",
    "        print('pleaseeeee choose right country!!!')\n",
    "        response = input(input_string)\n",
    "    else:\n",
    "        print('ok {} is correct'.format(response))\n",
    "    return response\n",
    "\n",
    "def GetInput():\n",
    "    Valid_input = ('iran','usa','uae','canada')\n",
    "    yorCountry = get_valid_input('please write your country : ',Valid_input)\n",
    "\n",
    "\n",
    "\n",
    "\n"
   ]
  },
  {
   "cell_type": "code",
   "execution_count": 13,
   "metadata": {},
   "outputs": [
    {
     "name": "stdout",
     "output_type": "stream",
     "text": [
      "ok iran is correct\n"
     ]
    }
   ],
   "source": [
    "GetInput()"
   ]
  },
  {
   "cell_type": "code",
   "execution_count": null,
   "metadata": {},
   "outputs": [],
   "source": []
  }
 ],
 "metadata": {
  "kernelspec": {
   "display_name": "Python 3.10.7 64-bit",
   "language": "python",
   "name": "python3"
  },
  "language_info": {
   "codemirror_mode": {
    "name": "ipython",
    "version": 3
   },
   "file_extension": ".py",
   "mimetype": "text/x-python",
   "name": "python",
   "nbconvert_exporter": "python",
   "pygments_lexer": "ipython3",
   "version": "3.10.7"
  },
  "orig_nbformat": 4,
  "vscode": {
   "interpreter": {
    "hash": "c5431442ea00844835fa45d5ecfd2bb6879e4a3559b45a48168ff386f7c6a82c"
   }
  }
 },
 "nbformat": 4,
 "nbformat_minor": 2
}
