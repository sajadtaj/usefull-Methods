{
 "cells": [
  {
   "cell_type": "markdown",
   "metadata": {},
   "source": [
    "## Base Model\n",
    "+   هنگامی که مجموعه از متغیر ها مورد نیاز باشد  که به کرات مورد استفاده قرار بگیرند در کلاس ها \n",
    "+   هنگامی که بخواهیم محدودیت های را بروی متغیر های تنظیم نماییم"
   ]
  },
  {
   "cell_type": "code",
   "execution_count": 3,
   "metadata": {},
   "outputs": [],
   "source": [
    "import pandas as pd\n",
    "from pydantic import BaseModel\n"
   ]
  },
  {
   "cell_type": "code",
   "execution_count": 10,
   "metadata": {},
   "outputs": [],
   "source": [
    "class User(BaseModel):\n",
    "    id : int\n",
    "    name : str = 'ali'\n",
    "    average :  float"
   ]
  },
  {
   "cell_type": "code",
   "execution_count": 11,
   "metadata": {},
   "outputs": [],
   "source": [
    "user1= User(id=12,name='sajad',average=18.36)"
   ]
  },
  {
   "cell_type": "code",
   "execution_count": 12,
   "metadata": {},
   "outputs": [
    {
     "data": {
      "text/plain": [
       "12"
      ]
     },
     "execution_count": 12,
     "metadata": {},
     "output_type": "execute_result"
    }
   ],
   "source": [
    "user1"
   ]
  },
  {
   "cell_type": "code",
   "execution_count": 14,
   "metadata": {},
   "outputs": [
    {
     "data": {
      "text/plain": [
       "18.36"
      ]
     },
     "execution_count": 14,
     "metadata": {},
     "output_type": "execute_result"
    }
   ],
   "source": [
    "user1.average"
   ]
  },
  {
   "cell_type": "markdown",
   "metadata": {},
   "source": [
    "## Example"
   ]
  },
  {
   "cell_type": "code",
   "execution_count": 21,
   "metadata": {},
   "outputs": [],
   "source": [
    "class Street(BaseModel):\n",
    "    street_No : int \n",
    "    street_Na : str\n",
    "\n",
    "class Adress(BaseModel):\n",
    "    city  : str\n",
    "    street : Street\n",
    "    block : int\n",
    "    alley : str\n"
   ]
  },
  {
   "cell_type": "code",
   "execution_count": 22,
   "metadata": {},
   "outputs": [],
   "source": [
    "myAdrss = Adress(city='Tehran',block=9, alley='ghods', street={'street_No': 125 , 'street_Na': 'hassan Bana'})"
   ]
  },
  {
   "cell_type": "code",
   "execution_count": 23,
   "metadata": {},
   "outputs": [
    {
     "data": {
      "text/plain": [
       "Adress(city='Tehran', street=Street(street_No=125, street_Na='hassan Bana'), block=9, alley='ghods')"
      ]
     },
     "execution_count": 23,
     "metadata": {},
     "output_type": "execute_result"
    }
   ],
   "source": [
    "myAdrss"
   ]
  },
  {
   "cell_type": "markdown",
   "metadata": {},
   "source": [
    "## Model -> Dict"
   ]
  },
  {
   "cell_type": "code",
   "execution_count": 24,
   "metadata": {},
   "outputs": [
    {
     "name": "stdout",
     "output_type": "stream",
     "text": [
      "{'city': 'Tehran', 'street': {'street_No': 125, 'street_Na': 'hassan Bana'}, 'block': 9, 'alley': 'ghods'}\n"
     ]
    }
   ],
   "source": [
    "print(myAdrss.dict())"
   ]
  },
  {
   "cell_type": "code",
   "execution_count": 27,
   "metadata": {},
   "outputs": [
    {
     "name": "stdout",
     "output_type": "stream",
     "text": [
      "{'city': 'Tehran', 'alley': 'ghods'}\n"
     ]
    }
   ],
   "source": [
    "print(myAdrss.dict(include={ 'city' , 'alley'}))"
   ]
  },
  {
   "cell_type": "code",
   "execution_count": 29,
   "metadata": {},
   "outputs": [
    {
     "name": "stdout",
     "output_type": "stream",
     "text": [
      "{'street': {'street_No': 125, 'street_Na': 'hassan Bana'}, 'block': 9}\n"
     ]
    }
   ],
   "source": [
    "print(myAdrss.dict(exclude={ 'city' , 'alley'}))"
   ]
  },
  {
   "cell_type": "code",
   "execution_count": 31,
   "metadata": {},
   "outputs": [
    {
     "name": "stdout",
     "output_type": "stream",
     "text": [
      "city -> Tehran\n",
      "street -> street_No=125 street_Na='hassan Bana'\n",
      "block -> 9\n",
      "alley -> ghods\n"
     ]
    }
   ],
   "source": [
    "for name, value in myAdrss:\n",
    "    print(f'{name} -> {value}')"
   ]
  },
  {
   "cell_type": "markdown",
   "metadata": {},
   "source": [
    "## Model -> Json"
   ]
  },
  {
   "cell_type": "code",
   "execution_count": 32,
   "metadata": {},
   "outputs": [
    {
     "name": "stdout",
     "output_type": "stream",
     "text": [
      "{\"city\": \"Tehran\", \"street\": {\"street_No\": 125, \"street_Na\": \"hassan Bana\"}, \"block\": 9, \"alley\": \"ghods\"}\n"
     ]
    }
   ],
   "source": [
    "print(myAdrss.json())"
   ]
  },
  {
   "cell_type": "markdown",
   "metadata": {},
   "source": [
    "##  Validator"
   ]
  },
  {
   "cell_type": "code",
   "execution_count": 33,
   "metadata": {},
   "outputs": [],
   "source": [
    "from pydantic import BaseModel, ValidationError, validator\n",
    "\n",
    "class User(BaseModel):\n",
    "    name : str\n",
    "    user_name : str\n",
    "    pass1 : str\n",
    "    pass2 : str\n",
    "\n",
    "    @validator('name')\n",
    "    def name_must_contain_space(cls,v):\n",
    "        if ' ' not in v:\n",
    "            raise ValueError('Your name must contain space')\n",
    "        return v.title()\n",
    "    \n",
    "    @validator('pass2')\n",
    "    def password_match(cls,v,values,**kwargs):\n",
    "        if 'pass1' in values and v != values['pass1']:\n",
    "            raise ValueError('passwords do not match')\n",
    "        return v\n",
    "\n",
    "    @validator('user_name')\n",
    "    def username_alphanumeric(cls, v):\n",
    "        assert v.isalnum() , 'must be alphanumeric'\n",
    "        return v\n",
    "\n"
   ]
  },
  {
   "cell_type": "code",
   "execution_count": 35,
   "metadata": {},
   "outputs": [],
   "source": [
    "user3 = User(name='asad taj',user_name='asa12', pass1='12536', pass2='12536')"
   ]
  },
  {
   "cell_type": "code",
   "execution_count": 36,
   "metadata": {},
   "outputs": [
    {
     "name": "stdout",
     "output_type": "stream",
     "text": [
      "name='Asad Taj' user_name='asa12' pass1='12536' pass2='12536'\n"
     ]
    }
   ],
   "source": [
    "print(user3)"
   ]
  },
  {
   "cell_type": "code",
   "execution_count": 37,
   "metadata": {},
   "outputs": [
    {
     "ename": "ValidationError",
     "evalue": "3 validation errors for User\nname\n  Your name must contain space (type=value_error)\nuser_name\n  must be alphanumeric (type=assertion_error)\npass2\n  passwords do not match (type=value_error)",
     "output_type": "error",
     "traceback": [
      "\u001b[1;31m---------------------------------------------------------------------------\u001b[0m",
      "\u001b[1;31mValidationError\u001b[0m                           Traceback (most recent call last)",
      "Cell \u001b[1;32mIn [37], line 1\u001b[0m\n\u001b[1;32m----> 1\u001b[0m user3 \u001b[39m=\u001b[39m User(name\u001b[39m=\u001b[39;49m\u001b[39m'\u001b[39;49m\u001b[39masad\u001b[39;49m\u001b[39m'\u001b[39;49m,user_name\u001b[39m=\u001b[39;49m\u001b[39m'\u001b[39;49m\u001b[39m-\u001b[39;49m\u001b[39m'\u001b[39;49m, pass1\u001b[39m=\u001b[39;49m\u001b[39m'\u001b[39;49m\u001b[39m1111\u001b[39;49m\u001b[39m'\u001b[39;49m, pass2\u001b[39m=\u001b[39;49m\u001b[39m'\u001b[39;49m\u001b[39m12536\u001b[39;49m\u001b[39m'\u001b[39;49m)\n",
      "File \u001b[1;32mc:\\Users\\s.tajedin\\AppData\\Local\\Programs\\Python\\Python310\\lib\\site-packages\\pydantic\\main.py:342\u001b[0m, in \u001b[0;36mpydantic.main.BaseModel.__init__\u001b[1;34m()\u001b[0m\n",
      "\u001b[1;31mValidationError\u001b[0m: 3 validation errors for User\nname\n  Your name must contain space (type=value_error)\nuser_name\n  must be alphanumeric (type=assertion_error)\npass2\n  passwords do not match (type=value_error)"
     ]
    }
   ],
   "source": [
    "user3 = User(name='asad',user_name='-', pass1='1111', pass2='12536')"
   ]
  },
  {
   "cell_type": "code",
   "execution_count": null,
   "metadata": {},
   "outputs": [],
   "source": []
  }
 ],
 "metadata": {
  "kernelspec": {
   "display_name": "Python 3.10.7 64-bit",
   "language": "python",
   "name": "python3"
  },
  "language_info": {
   "codemirror_mode": {
    "name": "ipython",
    "version": 3
   },
   "file_extension": ".py",
   "mimetype": "text/x-python",
   "name": "python",
   "nbconvert_exporter": "python",
   "pygments_lexer": "ipython3",
   "version": "3.10.7"
  },
  "orig_nbformat": 4,
  "vscode": {
   "interpreter": {
    "hash": "c5431442ea00844835fa45d5ecfd2bb6879e4a3559b45a48168ff386f7c6a82c"
   }
  }
 },
 "nbformat": 4,
 "nbformat_minor": 2
}
